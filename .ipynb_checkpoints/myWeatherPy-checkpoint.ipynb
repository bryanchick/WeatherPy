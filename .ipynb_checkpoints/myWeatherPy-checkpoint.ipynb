{
 "cells": [
  {
   "cell_type": "markdown",
   "metadata": {},
   "source": [
    "Analysis\n",
    "As you get colser to the equator the temp increases\n",
    "lattitude or longititude has no impact on clouds\n",
    "Southern hemisphere is warmer than northern hemisphere because it's summer there and winter here"
   ]
  },
  {
   "cell_type": "markdown",
   "metadata": {},
   "source": [
    "Setup"
   ]
  },
  {
   "cell_type": "code",
   "execution_count": 14,
   "metadata": {
    "scrolled": true
   },
   "outputs": [],
   "source": [
    "# Dependencies and Setup\n",
    "import matplotlib.pyplot as plt\n",
    "import pandas as pd\n",
    "import numpy as np\n",
    "import requests as req\n",
    "import time\n",
    "import seaborn as sns\n",
    "import openweathermapy.core as owm\n",
    "import csv\n",
    "# Import API key for gmaps\n",
    "#from config import gkey\n",
    "\n",
    "#Import API for open weather\n",
    "#from config import api_key\n",
    "api_key = \"f51381799eb995c69b073fdfce892a3f\"\n",
    "# Incorporated citipy to determine city based on latitude and longitude\n",
    "from citipy import citipy\n",
    "\n",
    "# Output File (CSV)\n",
    "output_data_file = \"output_data/cities.csv\"\n",
    "\n",
    "# Range of latitudes and longitudes\n",
    "lat_range = (-90, 90)\n",
    "lng_range = (-180, 180)\n"
   ]
  },
  {
   "cell_type": "markdown",
   "metadata": {},
   "source": [
    "Generate Cities List (using the starter code)"
   ]
  },
  {
   "cell_type": "code",
   "execution_count": 15,
   "metadata": {},
   "outputs": [
    {
     "data": {
      "text/plain": [
       "82"
      ]
     },
     "execution_count": 15,
     "metadata": {},
     "output_type": "execute_result"
    }
   ],
   "source": [
    "lat_lngs = []\n",
    "cities = []\n",
    "\n",
    "# Create a set of random lat and lng combinations\n",
    "lats = np.random.uniform(low=-90.000, high=90.000, size=100)\n",
    "lngs = np.random.uniform(low=-180.000, high=180.000, size=100)\n",
    "lat_lngs = zip(lats, lngs)\n",
    "\n",
    "# Identify nearest city for each lat, lng combination\n",
    "for lat_lng in lat_lngs:\n",
    "    city = citipy.nearest_city(lat_lng[0], lat_lng[1]).city_name\n",
    "    \n",
    "    # If the city is unique, then add it to a our cities list\n",
    "    if city not in cities:\n",
    "        cities.append(city)\n",
    "\n",
    "# Print the city count to confirm sufficient count\n",
    "len(cities)"
   ]
  },
  {
   "cell_type": "markdown",
   "metadata": {},
   "source": [
    " Perform API Calls\n",
    "\n",
    "Perform a weather check on each city using a series of successive API calls.\n",
    "Include a print log of each city as it'sbeing processed (with the city number and city name)."
   ]
  },
  {
   "cell_type": "code",
   "execution_count": 19,
   "metadata": {},
   "outputs": [
    {
     "name": "stdout",
     "output_type": "stream",
     "text": [
      "Beginning Data Retrieval from OpenWeather:\n",
      "------------------------------------------\n",
      "Processing | bluff #1\n",
      "Processing | mercedes #2\n",
      "Processing | ponta do sol #3\n",
      "Processing | arraial do cabo #4\n",
      "Processing | jamestown #5\n",
      "Processing | longyearbyen #6\n",
      "Processing | douentza #7\n",
      "Processing | iqaluit #8\n",
      "Processing | georgetown #9\n",
      "Processing | cherskiy #10\n",
      "Processing | inhambane #11\n",
      "Processing | kamenka #12\n",
      "Processing | mataura #13\n",
      "Processing | chesley #14\n",
      "Processing | glens falls #15\n",
      "Processing | avarua #16\n",
      "Processing | oranjestad #17\n",
      "Processing | alpena #18\n",
      "Processing | yellowknife #19\n",
      "Processing | talnakh #20\n",
      "Processing | upernavik #21\n",
      "Processing | moose factory #22\n",
      "Processing | victoria #23\n",
      "Processing | rikitea #24\n",
      "Processing | praxedis guerrero #25\n",
      "----------------------------------------------\n",
      "vaitupu does not exist, searching next city...\n",
      "----------------------------------------------\n",
      "Processing | port alfred #26\n",
      "Processing | ushuaia #27\n",
      "Processing | thompson #28\n",
      "Processing | aykhal #29\n",
      "----------------------------------------------\n",
      "temaraia does not exist, searching next city...\n",
      "----------------------------------------------\n",
      "Processing | nikolskoye #30\n",
      "Processing | cairns #31\n",
      "Processing | hermanus #32\n",
      "Processing | anupshahr #33\n",
      "----------------------------------------------\n",
      "bengkulu does not exist, searching next city...\n",
      "----------------------------------------------\n",
      "Processing | samarai #34\n",
      "Processing | kinarut #35\n",
      "Processing | dikson #36\n",
      "Processing | qaqortoq #37\n",
      "Processing | necochea #38\n",
      "Processing | saskylakh #39\n",
      "Processing | berlevag #40\n",
      "Processing | punta arenas #41\n",
      "Processing | ribeira grande #42\n",
      "Processing | beyneu #43\n",
      "Processing | namatanai #44\n",
      "Processing | mar del plata #45\n",
      "Processing | cururupu #46\n",
      "Processing | kruisfontein #47\n",
      "Processing | castro #48\n",
      "Processing | margate #49\n",
      "Processing | srednekolymsk #50\n",
      "Processing | tasiilaq #51\n",
      "Processing | busselton #52\n",
      "Processing | vaini #53\n",
      "Processing | albany #54\n",
      "Processing | provideniya #55\n",
      "Processing | shangrao #56\n",
      "Processing | montefiascone #57\n",
      "Processing | urengoy #58\n",
      "Processing | beringovskiy #59\n",
      "Processing | kargil #60\n",
      "Processing | morondava #61\n",
      "Processing | bathsheba #62\n",
      "----------------------------------------------\n",
      "barentsburg does not exist, searching next city...\n",
      "----------------------------------------------\n",
      "Processing | nanortalik #63\n",
      "Processing | san andres #64\n",
      "Processing | edd #65\n",
      "Processing | katsuura #66\n",
      "Processing | naze #67\n",
      "Processing | severo-kurilsk #68\n",
      "Processing | fort frances #69\n",
      "Processing | saint-philippe #70\n",
      "Processing | medveda #71\n",
      "Processing | lasa #72\n",
      "Processing | kapaa #73\n",
      "Processing | cape town #74\n",
      "Processing | khatanga #75\n",
      "----------------------------------------------\n",
      "sanmihaiu de campie does not exist, searching next city...\n",
      "----------------------------------------------\n",
      "Processing | roura #76\n",
      "Processing | east london #77\n",
      "-------------------\n",
      "Processing Complete\n"
     ]
    }
   ],
   "source": [
    "# Create settings dictionary with information we're interested in\n",
    "settings = {\"units\": \"imperial\", \"appid\": api_key}\n",
    "\n",
    "\n",
    "# the header of the print log\n",
    "print(\"Beginning Data Retrieval from OpenWeather:\")\n",
    "print(\"------------------------------------------\")\n",
    "\n",
    "# created a city dictionary to build dataframe\n",
    "city_dict = {}\n",
    "\n",
    "# created a city list of the cities found with the request\n",
    "city_list = []\n",
    "\n",
    "# row count will allow the city numbering while requesting\n",
    "row_count = 1\n",
    "\n",
    "\n",
    "for city in cities: \n",
    "    try:\n",
    "        current_city = owm.get_current(city, **settings)\n",
    "        city_dict[city] = current_city\n",
    "        city_list.append(city)\n",
    "        \n",
    "        print(f'Processing | {city} #{row_count}')\n",
    "        row_count += 1\n",
    "    except:\n",
    "        print(\"----------------------------------------------\")\n",
    "        print(f'{city} does not exist, searching next city...')\n",
    "        print(\"----------------------------------------------\")\n",
    "        \n",
    "# the footer of the print log     \n",
    "print(\"-------------------\")\n",
    "print(f'Processing Complete')"
   ]
  },
  {
   "cell_type": "code",
   "execution_count": 9,
   "metadata": {},
   "outputs": [],
   "source": [
    "with open('cities.csv', 'w') as csv_file:\n",
    "    writer = csv.writer(csv_file)\n",
    "    for key, value in city_dict.items():\n",
    "       writer.writerow([key, value])\n",
    "    "
   ]
  },
  {
   "cell_type": "code",
   "execution_count": 25,
   "metadata": {},
   "outputs": [
    {
     "ename": "KeyError",
     "evalue": "'name'",
     "output_type": "error",
     "traceback": [
      "\u001b[1;31m---------------------------------------------------------------------------\u001b[0m",
      "\u001b[1;31mKeyError\u001b[0m                                  Traceback (most recent call last)",
      "\u001b[1;32m<ipython-input-25-14677cacfeda>\u001b[0m in \u001b[0;36m<module>\u001b[1;34m()\u001b[0m\n\u001b[0;32m     10\u001b[0m \u001b[0mwind_speed\u001b[0m \u001b[1;33m=\u001b[0m \u001b[1;33m[\u001b[0m\u001b[1;33m]\u001b[0m\u001b[1;33m\u001b[0m\u001b[0m\n\u001b[0;32m     11\u001b[0m \u001b[1;33m\u001b[0m\u001b[0m\n\u001b[1;32m---> 12\u001b[1;33m \u001b[0mcity_name\u001b[0m\u001b[1;33m.\u001b[0m\u001b[0mappend\u001b[0m\u001b[1;33m(\u001b[0m\u001b[0mcity_dict\u001b[0m\u001b[1;33m[\u001b[0m\u001b[1;34m\"name\"\u001b[0m\u001b[1;33m]\u001b[0m\u001b[1;33m)\u001b[0m\u001b[1;33m\u001b[0m\u001b[0m\n\u001b[0m\u001b[0;32m     13\u001b[0m \u001b[0mcloudiness\u001b[0m\u001b[1;33m.\u001b[0m\u001b[0mappend\u001b[0m\u001b[1;33m(\u001b[0m\u001b[0mcity_dict\u001b[0m\u001b[1;33m[\u001b[0m\u001b[1;34m\"clouds\"\u001b[0m\u001b[1;33m]\u001b[0m\u001b[1;33m[\u001b[0m\u001b[1;34m\"all\"\u001b[0m\u001b[1;33m]\u001b[0m\u001b[1;33m)\u001b[0m\u001b[1;33m\u001b[0m\u001b[0m\n\u001b[0;32m     14\u001b[0m \u001b[0mcountry\u001b[0m\u001b[1;33m.\u001b[0m\u001b[0mappend\u001b[0m\u001b[1;33m(\u001b[0m\u001b[0mcity_dict\u001b[0m\u001b[1;33m[\u001b[0m\u001b[1;34m\"sys\"\u001b[0m\u001b[1;33m]\u001b[0m\u001b[1;33m[\u001b[0m\u001b[1;34m\"country\"\u001b[0m\u001b[1;33m]\u001b[0m\u001b[1;33m)\u001b[0m\u001b[1;33m\u001b[0m\u001b[0m\n",
      "\u001b[1;31mKeyError\u001b[0m: 'name'"
     ]
    }
   ],
   "source": [
    "\n",
    "city_name = []\n",
    "cloudiness = []\n",
    "country = []\n",
    "date = []\n",
    "humidity = []\n",
    "lat = []\n",
    "lng = []\n",
    "max_temp = []\n",
    "wind_speed = []\n",
    "\n",
    "city_name.append(city_dict[\"name\"])\n",
    "cloudiness.append(city_dict[\"clouds\"][\"all\"])\n",
    "country.append(city_dict[\"sys\"][\"country\"])\n",
    "date.append(city_dict[\"dt\"]) \n",
    "humidity.append(city_dict[\"main\"][\"humidity\"])\n",
    "max_temp.append(city_dict[\"main\"][\"temp_max\"])\n",
    "lat.append(city_dict[\"coord\"][\"lat\"])\n",
    "lng.append(city_dict[\"coord\"][\"lon\"])\n",
    "wind_speed.append(city_dict[\"wind\"][\"speed\"])\n",
    "city_record = city_dict[\"name\"]"
   ]
  },
  {
   "cell_type": "markdown",
   "metadata": {},
   "source": [
    "I started having problems because my dataframe and the new data did not have the same length. I tried .fillna() and nothing that I was trying was working. I even googled other peoples past projects and I couldn't get them to work so shis is where I got stuck. I tried to import the csv that I created and use that to salvage my data but I was unable to pars out and get it into a format to use the data. I have included the code for the scatterplots that I would have used if my data would have worked."
   ]
  },
  {
   "cell_type": "code",
   "execution_count": 37,
   "metadata": {},
   "outputs": [],
   "source": [
    "data = pd.read_csv('cities.csv', encoding=\"utf-8\")"
   ]
  },
  {
   "cell_type": "code",
   "execution_count": 40,
   "metadata": {},
   "outputs": [
    {
     "ename": "SyntaxError",
     "evalue": "invalid syntax (<ipython-input-40-9d135b6f0113>, line 1)",
     "output_type": "error",
     "traceback": [
      "\u001b[1;36m  File \u001b[1;32m\"<ipython-input-40-9d135b6f0113>\"\u001b[1;36m, line \u001b[1;32m1\u001b[0m\n\u001b[1;33m    data.columns(Index(['muvattupula', '{'coord': {'lon': 76.58, 'lat': 9.97})\u001b[0m\n\u001b[1;37m                                              ^\u001b[0m\n\u001b[1;31mSyntaxError\u001b[0m\u001b[1;31m:\u001b[0m invalid syntax\n"
     ]
    }
   ],
   "source": [
    "data.columns(Index([, '{'coord': {'lon': 76.58, 'lat': 9.97})"
   ]
  },
  {
   "cell_type": "code",
   "execution_count": 32,
   "metadata": {},
   "outputs": [
    {
     "ename": "TypeError",
     "evalue": "super(type, obj): obj must be an instance or subtype of type",
     "output_type": "error",
     "traceback": [
      "\u001b[1;31m---------------------------------------------------------------------------\u001b[0m",
      "\u001b[1;31mTypeError\u001b[0m                                 Traceback (most recent call last)",
      "\u001b[1;32m<ipython-input-32-a636f7a4c8a7>\u001b[0m in \u001b[0;36m<module>\u001b[1;34m()\u001b[0m\n\u001b[0;32m     17\u001b[0m     \u001b[1;34m\"Humidity\"\u001b[0m\u001b[1;33m:\u001b[0m \u001b[0mhumidity\u001b[0m\u001b[1;33m,\u001b[0m\u001b[1;33m\u001b[0m\u001b[0m\n\u001b[0;32m     18\u001b[0m     \u001b[1;34m\"Cloudiness\"\u001b[0m\u001b[1;33m:\u001b[0m \u001b[0mcloud\u001b[0m\u001b[1;33m,\u001b[0m\u001b[1;33m\u001b[0m\u001b[0m\n\u001b[1;32m---> 19\u001b[1;33m     \u001b[1;34m\"Date\"\u001b[0m\u001b[1;33m:\u001b[0m \u001b[0mdate\u001b[0m\u001b[1;33m,\u001b[0m\u001b[1;33m\u001b[0m\u001b[0m\n\u001b[0m\u001b[0;32m     20\u001b[0m })\n\u001b[0;32m     21\u001b[0m \u001b[1;33m\u001b[0m\u001b[0m\n",
      "\u001b[1;32m~\\Anaconda3\\lib\\site-packages\\pandas\\core\\frame.py\u001b[0m in \u001b[0;36mfillna\u001b[1;34m(self, value, method, axis, inplace, limit, downcast, **kwargs)\u001b[0m\n\u001b[0;32m   3786\u001b[0m                limit=None, downcast=None, **kwargs):\n\u001b[0;32m   3787\u001b[0m         return super(DataFrame,\n\u001b[1;32m-> 3788\u001b[1;33m                      \u001b[0mself\u001b[0m\u001b[1;33m)\u001b[0m\u001b[1;33m.\u001b[0m\u001b[0mfillna\u001b[0m\u001b[1;33m(\u001b[0m\u001b[0mvalue\u001b[0m\u001b[1;33m=\u001b[0m\u001b[0mvalue\u001b[0m\u001b[1;33m,\u001b[0m \u001b[0mmethod\u001b[0m\u001b[1;33m=\u001b[0m\u001b[0mmethod\u001b[0m\u001b[1;33m,\u001b[0m \u001b[0maxis\u001b[0m\u001b[1;33m=\u001b[0m\u001b[0maxis\u001b[0m\u001b[1;33m,\u001b[0m\u001b[1;33m\u001b[0m\u001b[0m\n\u001b[0m\u001b[0;32m   3789\u001b[0m                                   \u001b[0minplace\u001b[0m\u001b[1;33m=\u001b[0m\u001b[0minplace\u001b[0m\u001b[1;33m,\u001b[0m \u001b[0mlimit\u001b[0m\u001b[1;33m=\u001b[0m\u001b[0mlimit\u001b[0m\u001b[1;33m,\u001b[0m\u001b[1;33m\u001b[0m\u001b[0m\n\u001b[0;32m   3790\u001b[0m                                   downcast=downcast, **kwargs)\n",
      "\u001b[1;31mTypeError\u001b[0m: super(type, obj): obj must be an instance or subtype of type"
     ]
    }
   ],
   "source": [
    "city_name = []\n",
    "cloud = []\n",
    "country = []\n",
    "date = []\n",
    "humidity = []\n",
    "lat = []\n",
    "lng = []\n",
    "temp = []\n",
    "windSpeed = []\n",
    "newWeather = pd.DataFrame.fillna({\n",
    "    \"Latitude\": lat,\n",
    "    \"Longitude\": lng,\n",
    "    \"City Name\": city_list,\n",
    "    \"Country\": country,\n",
    "    \"Wind Speed\": windSpeed,\n",
    "    \"Temperature\": temp,\n",
    "    \"Humidity\": humidity,\n",
    "    \"Cloudiness\": cloud,\n",
    "    \"Date\": date,\n",
    "})\n",
    "\n",
    "newWeather.head()"
   ]
  },
  {
   "cell_type": "markdown",
   "metadata": {},
   "source": [
    "Convert Raw Data to DataFrame\n",
    "\n"
   ]
  },
  {
   "cell_type": "code",
   "execution_count": 13,
   "metadata": {},
   "outputs": [],
   "source": []
  },
  {
   "cell_type": "markdown",
   "metadata": {},
   "source": [
    " Plotting the Data\n",
    "\n",
    "Use proper labeling of the plots using plot titles (including date of analysis) and axes labels.\n",
    "Save the plotted figures as .pngs.\n",
    "\n",
    " Latitude vs. Temperature Plot"
   ]
  },
  {
   "cell_type": "code",
   "execution_count": 14,
   "metadata": {},
   "outputs": [
    {
     "data": {
      "image/png": "[encoded data removed]",
      "text/plain": [
       "<Figure size 432x288 with 1 Axes>"
      ]
     },
     "metadata": {
      "needs_background": "light"
     },
     "output_type": "display_data"
    }
   ],
   "source": [
    "#Latitude Vs Temperature Scatter Plot\n",
    "plt.scatter(newSet[\"Lat\"],newSet[\"Temperature\"],marker =\"o\")\n",
    "plt.title(\"Latitude Vs. Temperature\")\n",
    "plt.xlabel(\"Latitude\")\n",
    "plt.ylabel(\"Temperature (F)\")\n",
    "sns.set()\n",
    "plt.show()"
   ]
  },
  {
   "cell_type": "markdown",
   "metadata": {},
   "source": [
    " Latitude vs. Humidity Plot"
   ]
  },
  {
   "cell_type": "code",
   "execution_count": 15,
   "metadata": {},
   "outputs": [
    {
     "data": {
      "image/png": "[encoded data removed]",
      "text/plain": [
       "<Figure size 432x288 with 1 Axes>"
      ]
     },
     "metadata": {},
     "output_type": "display_data"
    }
   ],
   "source": [
    "#Cloudiness Vs. Latitude Scatter Plot\n",
    "plt.scatter(newSet[\"Lat\"],newSet[\"Clouds\"],marker =\"o\")\n",
    "plt.title(\"Latitude Vs. Cloudiness\")\n",
    "plt.xlabel(\"Latitude\")\n",
    "plt.ylabel(\"Cloudiness (%)\")\n",
    "sns.set()\n",
    "plt.show()"
   ]
  },
  {
   "cell_type": "markdown",
   "metadata": {},
   "source": [
    " Latitude vs. Cloudiness Plot"
   ]
  },
  {
   "cell_type": "code",
   "execution_count": 16,
   "metadata": {},
   "outputs": [
    {
     "data": {
      "image/png": "[encoded data removed]",
      "text/plain": [
       "<Figure size 432x288 with 1 Axes>"
      ]
     },
     "metadata": {},
     "output_type": "display_data"
    }
   ],
   "source": [
    "#Cloudiness Vs. Latitude Scatter Plot\n",
    "plt.scatter(newSet[\"Lat\"],newSet[\"Clouds\"],marker =\"o\")\n",
    "plt.title(\"Latitude Vs. Cloudiness\")\n",
    "plt.xlabel(\"Latitude\")\n",
    "plt.ylabel(\"Cloudiness (%)\")\n",
    "sns.set()\n",
    "plt.show()"
   ]
  },
  {
   "cell_type": "markdown",
   "metadata": {},
   "source": [
    " Latitude vs. Wind Speed Plot"
   ]
  },
  {
   "cell_type": "code",
   "execution_count": 36,
   "metadata": {},
   "outputs": [
    {
     "data": {
      "image/png": "[encoded data removed]",
      "text/plain": [
       "<Figure size 432x288 with 1 Axes>"
      ]
     },
     "metadata": {},
     "output_type": "display_data"
    }
   ],
   "source": [
    "#Wind Speed Vs. Latitude Scatter Plot\n",
    "plt.scatter(newSet[\"Lat\"],newSet[\"Wind Speed\"],marker =\"o\")\n",
    "plt.title(\"Latitude Vs. Wind Speed\")\n",
    "plt.xlabel(\"Latitude\")\n",
    "plt.ylabel(\"Wind Speed (mph)\")\n",
    "sns.set()\n",
    "plt.show()"
   ]
  },
  {
   "cell_type": "code",
   "execution_count": null,
   "metadata": {},
   "outputs": [],
   "source": []
  }
 ],
 "metadata": {
  "kernelspec": {
   "display_name": "Python 3",
   "language": "python",
   "name": "python3"
  },
  "language_info": {
   "codemirror_mode": {
    "name": "ipython",
    "version": 3
   },
   "file_extension": ".py",
   "mimetype": "text/x-python",
   "name": "python",
   "nbconvert_exporter": "python",
   "pygments_lexer": "ipython3",
   "version": "3.7.0"
  }
 },
 "nbformat": 4,
 "nbformat_minor": 2
}
